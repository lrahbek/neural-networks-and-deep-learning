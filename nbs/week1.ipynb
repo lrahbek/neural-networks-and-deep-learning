{
 "cells": [
  {
   "cell_type": "code",
   "execution_count": 1,
   "metadata": {},
   "outputs": [],
   "source": [
    "import sys\n",
    "sys.path.append('../src')"
   ]
  },
  {
   "cell_type": "code",
   "execution_count": 3,
   "metadata": {},
   "outputs": [],
   "source": [
    "import mnist_loader\n",
    "import network"
   ]
  },
  {
   "cell_type": "code",
   "execution_count": 4,
   "metadata": {},
   "outputs": [],
   "source": [
    "# loading MNIST data\n",
    "training_data, validation_data, test_data = mnist_loader.load_data_wrapper()"
   ]
  },
  {
   "cell_type": "code",
   "execution_count": 6,
   "metadata": {},
   "outputs": [],
   "source": [
    "# defining network with 30 hidden neurons\n",
    "net = network.Network([2,3,1])"
   ]
  },
  {
   "cell_type": "code",
   "execution_count": null,
   "metadata": {},
   "outputs": [],
   "source": [
    "net"
   ]
  },
  {
   "cell_type": "code",
   "execution_count": null,
   "metadata": {},
   "outputs": [],
   "source": [
    "# use sgd to train the network on the training data\n",
    "net.SGD(training_data = training_data, \n",
    "        epochs = 30, \n",
    "        mini_batch_size = 10, \n",
    "        eta = 3.0, \n",
    "        test_data=test_data)"
   ]
  },
  {
   "cell_type": "code",
   "execution_count": null,
   "metadata": {},
   "outputs": [],
   "source": [
    "# initialise network with 100 hidden neurons instead of 30\n",
    "net100 = network.Network([784, 100, 10])\n",
    "net100.SGD(training_data = training_data, \n",
    "           epochs = 30, \n",
    "           mini_batch_size = 10, \n",
    "           eta = 3.0, \n",
    "           test_data=test_data)"
   ]
  },
  {
   "cell_type": "code",
   "execution_count": null,
   "metadata": {},
   "outputs": [],
   "source": [
    "# initialise network with low learning rate\n",
    "net_lowLR = network.Network([784, 100, 10])\n",
    "net_low_LR.SGD(training_data = training_data, \n",
    "           epochs = 30, \n",
    "           mini_batch_size = 10, \n",
    "           eta = 0.001, \n",
    "           test_data=test_data)"
   ]
  },
  {
   "cell_type": "code",
   "execution_count": null,
   "metadata": {},
   "outputs": [],
   "source": [
    "# Initialise network with 30 neurons byt LR of 100\n",
    "net_hi_LR = network.Network([784, 30, 10])\n",
    "net_hi_LR.SGD(training_data = training_data, \n",
    "           epochs = 30, \n",
    "           mini_batch_size = 10, \n",
    "           eta = 100.0, \n",
    "           test_data=test_data)"
   ]
  }
 ],
 "metadata": {
  "kernelspec": {
   "display_name": "env",
   "language": "python",
   "name": "python3"
  },
  "language_info": {
   "codemirror_mode": {
    "name": "ipython",
    "version": 3
   },
   "file_extension": ".py",
   "mimetype": "text/x-python",
   "name": "python",
   "nbconvert_exporter": "python",
   "pygments_lexer": "ipython3",
   "version": "3.12.3"
  }
 },
 "nbformat": 4,
 "nbformat_minor": 2
}
